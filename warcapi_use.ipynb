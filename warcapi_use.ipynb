{
 "cells": [
  {
   "cell_type": "code",
   "execution_count": 1,
   "id": "a3eec926-43fc-494f-8dc9-b7a39f465698",
   "metadata": {},
   "outputs": [],
   "source": [
    "import warcapi"
   ]
  },
  {
   "cell_type": "code",
   "execution_count": 2,
   "id": "8e63fed9-1ea8-4da4-bfc6-05eba4ae8898",
   "metadata": {},
   "outputs": [
    {
     "name": "stdout",
     "output_type": "stream",
     "text": [
      "File downloaded successfully to ./CC-MAIN-20231128083443-20231128113443-00000.warc.wet.gz\n"
     ]
    }
   ],
   "source": [
    "warc_chunk = warcapi.WARCChunk('dest/CC-MAIN-20231128083443-20231128113443-00000.csv', ignore_errors=True)"
   ]
  },
  {
   "cell_type": "code",
   "execution_count": 3,
   "id": "82f03659-c1c0-4173-ad17-f22fe277c171",
   "metadata": {},
   "outputs": [
    {
     "data": {
      "text/plain": [
       "'Новости 0-50.ru | Порошенко выразил соболезнования родным и близким Валерии Новодворской |\\n|\\nПогода '"
      ]
     },
     "execution_count": 3,
     "metadata": {},
     "output_type": "execute_result"
    }
   ],
   "source": [
    "warc_chunk.get_text('<urn:uuid:60a1e8f3-68a9-437c-937c-e52edd95c91c>')[:100]"
   ]
  },
  {
   "cell_type": "code",
   "execution_count": 4,
   "id": "109914c8-2dfc-4c13-a3aa-0d3f05237072",
   "metadata": {},
   "outputs": [],
   "source": [
    "warc_records = warc_chunk.warc_df.query(\"Domain == 'es'\").sample(frac=0.25).index.tolist()"
   ]
  },
  {
   "cell_type": "code",
   "execution_count": 5,
   "id": "7d6cd322-9d6b-4a8c-af2f-7588dab217b9",
   "metadata": {},
   "outputs": [
    {
     "data": {
      "text/plain": [
       "91"
      ]
     },
     "execution_count": 5,
     "metadata": {},
     "output_type": "execute_result"
    }
   ],
   "source": [
    "len(warc_records)"
   ]
  },
  {
   "cell_type": "code",
   "execution_count": 6,
   "id": "3b68b160-1f14-457f-962f-c9a016f9802e",
   "metadata": {},
   "outputs": [
    {
     "name": "stdout",
     "output_type": "stream",
     "text": [
      "Fabricante de bobina de acero  \t\t\t\t--> nan | nan | http://xiajisteelgroup.es/products/ft-ft-de-ancho-mm-s-sus-los-precios/\n",
      "TÉ VERDE Y NEGRO ROKOKO | Tea  \t\t\t\t--> es | nan | https://www.teacolors.es/producto/te-verde-y-negro-rokoko/\n",
      "Electroneurografía del Facial  \t\t\t\t--> es-ES | nan | https://vithas.es/pd/castellon/electroneurografia-del-facial-y-blink-reflex/\n",
      "J.C.B - GONZALALINLlámanos ah \t\t\t\t--> nan | nan | https://www.gonzalalin.es/ps/362-jcb\n",
      "Agenda – Ayuntamiento de Los M \t\t\t\t--> es | nan | https://www.ayuntamiento-losmolinos.es/?page_id=2658&ai1ec=action~posterboard%7Ccat_ids~145%7Ctag_ids~1440,2307%7Crequest_format~json\n",
      "23/10/2015 – Página 3 – Planet \t\t\t\t--> es-ES | nan | https://planeta.educarex.es/web/index.php/2015/10/23/page/3/\n",
      "Búsqueda de Licitaciones - Lic \t\t\t\t--> nan | nan | https://contratos-pturismo.alicante.es/licitacion/UltimosExpte.do;jsessionid=XFE6jF9mjBCyQVlJaRpzkuqoeUOm8EEYYzcRHClI\n",
      "Tarta Stars Wars ChewbaccaEnv \t\t\t\t--> es | nan | https://lacestitadelbebe.es/es/tarta-de-panales-nino/1369-3096-tarta-stars-wars-chewbacca.html\n",
      "Fenix Loods | Marbella Marbell \t\t\t\t--> en-US | nan | http://marbellamarbella.es/tag/fenix-loods/\n",
      "Rhinoceros – GreenArtiniciot \t\t\t\t--> en-US | nan | https://greenart.es/product/rhinoceros/\n",
      "Desodorizante Spray Zero | Bab \t\t\t\t--> pt | nan | https://babaria.es/pt/producto/desodorizante-spray-zero/\n",
      "Details for: La Constitución e \t\t\t\t--> en | nan | https://biblioteca.exteriores.gob.es/bib/199325\n",
      "JOSERA | Feed producers for li \t\t\t\t--> es | nan | https://www.josera-agri.es/\n",
      "¿Cómo cambiar el color de las  \t\t\t\t--> es | nan | https://tucutuco.es/como-cambiar-el-color-de-las-puertas/\n",
      "Xixona – El Mico Entertainment \t\t\t\t--> es | nan | http://elmico.es/event-location/xixona/\n",
      "Impresora DUAL FARGO™ HDP5600  \t\t\t\t--> en | es | https://store.emacs.es/products/093248\n",
      "Articulo 51 Constitución Españ \t\t\t\t--> nan | nan | https://www.iberley.es/legislacion/articulo-51-constitucion-espanola\n",
      "Tienda LA LEYBuscarToggle na \t\t\t\t--> nan | nan | https://tienda.laley.es/c/nuestras-marcas?orderby=17&specs=51,46,339,37,29,50&viewmode=list\n",
      "Ayuntamiento de Tapia de Casar \t\t\t\t--> nan | nan | https://tapiadecasariego.es/index.php?M1=1&M2=10&CO=1610\n",
      "Buscador - empleo_salud - nava \t\t\t\t--> nan | nan | https://empleosalud.navarra.es/es/buscador?p_p_id=com_liferay_portal_search_web_portlet_SearchPortlet&p_p_lifecycle=0&p_p_state=maximized&p_p_mode=view&_com_liferay_portal_search_web_portlet_SearchPortlet_redirect=%2Fes%2Fbuscador%3Fp_p_id%3Dcom_ricoh_navarra_empsal_search_portlet_EmpsalContentSearchPortlet_INSTANCE_Z6fmnYAcfelj%26p_p_lifecycle%3D0%26p_p_state%3Dnormal%26p_p_mode%3Dview%26_com_ricoh_navarra_empsal_search_portlet_EmpsalContentSearchPortlet_INSTANCE_Z6fmnYAcfelj_cur%3D34%26_com_ricoh_navarra_empsal_search_portlet_EmpsalContentSearchPortlet_INSTANCE_Z6fmnYAcfelj_resetCur%3Dfalse%26_com_ricoh_navarra_empsal_search_portlet_EmpsalContentSearchPortlet_INSTANCE_Z6fmnYAcfelj_delta%3D75&_com_liferay_portal_search_web_portlet_SearchPortlet_assetEntryId=371935&_com_liferay_portal_search_web_portlet_SearchPortlet_mvcPath=%2Fview_content.jsp&_com_liferay_portal_search_web_portlet_SearchPortlet_type=content\n",
      "Gorras - Orange / Marine - LeT \t\t\t\t--> nan | nan | https://www.letextile.es/search/c-gorras/l-orange-navy\n",
      "CUIN HOGAR - muebles de cocina \t\t\t\t--> es | nan | https://kestablecimientos.com.es/muebles-de-cocina-establecimientos-port-de-pollenca-provincia-baleares-cuin-hogar-235018\n",
      "Alquileres vacacionales cerca  \t\t\t\t--> es-ES | es | https://www.tripadvisor.es/VacationRentalsNear-g503918-d3290557-Bredgar_Wormshill_Light_Railway-Sittingbourne_Kent_England.html\n",
      "Artículo 117 2.aSaltar al con \t\t\t\t--> es | nan | http://aavvlamarisma.es/articulo-117-2-a/\n",
      "Best Selling Products – LITTLE \t\t\t\t--> es | es | https://littletreedesignbiotopes.es/collections/best-selling-products\n",
      "4 razones por las que su solda \t\t\t\t--> es | nan | https://www.caballerosmutilados.es/4-razones-por-las-que-su-soldadora-mig-esta-pulverizando/\n",
      "Zapholiday 2173 | Vacaciones C \t\t\t\t--> es | nan | https://www.zapholiday.es/alquiler/apartamento-manilva-duquesa-regent-2173-164918.html\n",
      "CODNIB. Colegio Oficial de Die \t\t\t\t--> es-es | nan | https://www.codnib.es/index.php/ca/actividades/198-codnib-se-reune-con-la-consellera-de-salut\n",
      "ACCESORIOS INOXIDABLES, página \t\t\t\t--> es-ES | nan | http://www.suministrosmiguellopez.es/familias/subfamilias/accesorios-inoxidable-valvulas-bola-inox-9-2?pagina=1\n",
      "Ministerio de Justicia - Direc \t\t\t\t--> nan | nan | https://www.mjusticia.gob.es/BUSCADIR/ServletControlador?apartado=buscadorMunicipios&municipio=46209&nombre_municipio=&nombre_partido=&lang=es_es&tipo=RC&origen=\n",
      "Ajuntament de Burriana - Ajunt \t\t\t\t--> es-es | nan | https://burriana.es/component/jevents/eventosdiarios/2023/10/17/75?Itemid=165\n",
      "ICMAB - First school visit of  \t\t\t\t--> en-gb | nan | https://icmab.es/first-school-visit-of-the-escolab-2018-2019-programme\n",
      "これはちゃんとした時計の着け方です【オクロック・ザワツ】 - \t\t\t\t--> ja | nan | http://brandwatch.esy.es/%e6%99%82%e8%a8%88/%e3%81%93%e3%82%8c%e3%81%af%e3%81%a1%e3%82%83%e3%82%93%e3%81%a8%e3%81%97%e3%81%9f%e6%99%82%e8%a8%88%e3%81%ae%e7%9d%80%e3%81%91%e6%96%b9%e3%81%a7%e3%81%99%e3%80%90%e3%82%aa%e3%82%af%e3%83%ad%e3%83%83/\n",
      "Jeyca Inforguay | COMPONENTES  \t\t\t\t--> es | nan | https://inforguay.es/products/buscar/all?f=10&gf=2&reset_parametros=true&sf=224\n",
      "{{left-columns-heading}}{{rig \t\t\t\t--> es | nan | https://mercadomislata.es/tienda/21-pechuga-s-hueso/\n",
      "Don’t take chances - Better to \t\t\t\t--> en-GB | nan | https://mvpql.es/meme/dont-take-chances/\n",
      "Ministerio de Justicia - Direc \t\t\t\t--> nan | nan | https://www.mjusticia.gob.es/BUSCADIR/ServletControlador?apartado=buscadorEntesDesdeListado&ente=5200183123003&partido=&municipioDelDetalle=es.mjusticia.wsdirjus.beans.MunicipioBeanVO@6da74daf&lang=es_es&origen=\n",
      "Productos Yamaha - YamahaCONT \t\t\t\t--> es-ES | nan | https://concesionarios.yamaha-motor.es/muro-motoservei-badalona/productos-yamaha/?segment=e-bikes&category=mountain-ebike\n",
      "Política de privacidad | clmac \t\t\t\t--> es | es | https://castillalamanchaactiva.es/politica-de-privacidad\n",
      "EntradaCastellano / Valencià  \t\t\t\t--> nan | nan | https://www.lalibreria.upv.es/portalEd/UpvGEStore/control/viewprofile;jsessionid=6D053C954BE4E817217B0A3E21356A62.jvm1\n",
      "Play We Go Up To Night by KILL \t\t\t\t--> en | en-GB | https://music.amazon.es/albums/B07FDHFNYY\n",
      "Efecto Frio o Calor - Momentos \t\t\t\t--> es | nan | https://www.momentos-loveshop.es/efecto-frio-o-calor-lp-1-50-familia-362/\n",
      "Cistitus Forte 20 uds – Farmac \t\t\t\t--> es | nan | https://farmaciacapella.es/producto/cistitus-forte-20-uds/\n",
      "Benjamín Femenino 14 - Denia B \t\t\t\t--> es | nan | https://deniabasquet.es/equipos/benjamin-mixto-14-15/\n",
      "Biblioteca Digital de Castilla \t\t\t\t--> fr | nan | https://bibliotecadigital.jcyl.es/fr/publicaciones/listar_cabeceras.do?letra=no&destino_id=busq_idPublicacion&destino=..%2Fpublicaciones%2Flistar_numeros.do%3FcampoOrden%3Dnombreordenar%26descendente%3Dfalse%26busq_mes%3D12%26busq_infoArticulos%3Dtrue%26busq_dia%26busq_idPublicacion\n",
      "Aportaciones estadísticas al e \t\t\t\t--> en | en-US | https://uvadoc.uva.es/handle/10324/42934?locale-attribute=es\n",
      "¿Aparecen ventanas que te pide \t\t\t\t--> es | nan | http://laboratoriodeelectronica.com.es/aparecen-ventanas-que-te-piden-apagar-tu-mac-aqui-la-solucion/\n",
      "Casas prefabricadas Benicolet  \t\t\t\t--> es | nan | https://casasprefabricadas.xuf.es/casas-prefabricadas-benicolet/\n",
      "Koff | TCatálogoSolucionesS \t\t\t\t--> nan | nan | https://store.koff.es/Tienda?fil=t&fam=zgaming\n",
      "Varios Accesorios – Etiquetado \t\t\t\t--> es | es | https://mimoki.es/collections/varios-accesorios/lazo\n",
      "4 archivos | Laser Project  \t\t\t\t--> es | nan | https://www.laserproject.es/grosor-1/4/\n",
      "Inicio | Olimpiada Filosófica  \t\t\t\t--> es | nan | https://olimpiada.filosofica.andalucia.aafi.es/inicio/?et_blog\n",
      "Re: Recuperar numero teléfono  \t\t\t\t--> es | nan | https://comunidad.movistar.es/t5/Hogar-Fijo-Internet-TV/Recuperar-numero-telefono-fijo-perdido-por-anular-portabilidad/m-p/1728486/highlight/true\n",
      "Fonsi Nieto con su hijo Lucas  \t\t\t\t--> es | nan | https://www.bekia.es/celebrities/fotos/galerias/famosos-homenaje-postumo-angel-nieto-madrid/fonsi-nieto-hijo-lucas-homenaje-angel-nieto-puertas-bernabeu/\n",
      "INLET SEAFISH | Noticias - Com \t\t\t\t--> es-ES | nan | https://www.inlet.es/noticias/comunicado-maruha-nichiro/\n",
      "Associate's degree, the first  \t\t\t\t--> en-US | nan | https://www.santpol.edu.es/en/associates-degree/\n",
      "Vuelos baratos de Logrono a Mu \t\t\t\t--> es | nan | https://www.wingie.es/vuelos/logrono-a-murcia-rjla-mjva/\n",
      "Política de privacidad - Vis25 \t\t\t\t--> es-es | nan | https://www.vis25.es/es/content/6-politica-de-privacidad\n",
      "▷ Café Belmonte receta café ca \t\t\t\t--> es | nan | https://www.spanishliquors.es/cafe-belmonte/\n",
      "Levante - El Día de CórdobaTE \t\t\t\t--> nan | nan | https://www.eldiadecordoba.es/tag/levante/?page=4\n",
      "jon plazaola archivos - Secuen \t\t\t\t--> es | nan | https://www.secuenciadas.es/tag/jon-plazaola/\n",
      "Birta Myrkur · Cine de movilid \t\t\t\t--> es | nan | https://humanidadesdigitales.uc3m.es/s/cine-de-movilidad/item/10757\n",
      "Programa para ver imagenes ??? \t\t\t\t--> es | nan | https://foro.geeknetic.es/software/programas/7236-programa-para-ver-imagenes\n",
      "David López Rodríguez: Haciend \t\t\t\t--> nan | nan | http://blog.dalopez.es/2014/02/hacienda-busca-legalizar-las.html\n",
      "Información de Juzgado De Paz  \t\t\t\t--> nan | nan | https://guiaempresas.universia.es/JUZGADO-PAZ-ANDOSILLA.html\n",
      "SOCIBinicisobre SOCIBinfrae \t\t\t\t--> nan | nan | https://www.socib.es/index.php?seccion=detalle_noticia&id_noticia=540&language=ca_ES\n",
      "CTRL “C” – CTRL “V”; using gam \t\t\t\t--> es | es | https://www.bne.es/es/blog/biblioteconomia/2018/07/17/ctrl-c-ctrl-v-using-gaming-peripherals-improve-library-workflows-enhance-staff-efficiency\n",
      "Yellow Skin | Comprar pantalon \t\t\t\t--> es | nan | https://urbandawn.es/producto/yellow-skin-pantalon-1160-gris-oscuro/\n",
      "iglesia católica - Jot Down Cu \t\t\t\t--> es | nan | https://www.jotdown.es/tag/iglesia-catolica/\n",
      "1959: Las mil y una… (1001 Ara \t\t\t\t--> en | nan | https://animacionparaadultos.es/1959-las-mil-y-una-1001-arabian-nights/\n",
      "Karmele Mendizabal | Ixa talde \t\t\t\t--> eu | eu | http://ixa.si.ehu.es/node/98?language=eu\n",
      "MARIN 2023 Ley Orgánica 3_2007 \t\t\t\t--> es | nan | https://www.cesepol.es/leccion/ci-mar-politicas-de-igualdad-de-genero-la-ley-organica-3-2007-de-22-de-marzo-para-la-igualdad-efectiva-de-mujeres-y-hombres/marin-2023-ley-organica-3_2007-de-22-de-marzo-para-la-igualdad-efectiva-de-mujeres-y-hombres_/\n",
      "Búsqueda de Licitaciones - Lic \t\t\t\t--> nan | nan | https://licitacion.unizar.es/licitacion/verificadorCopiaAutentica.do;jsessionid=Wybc_wvBRaT8m4HUp5aXE4KrPPf0y9lCe3y21811.plycasae1?inicio=true\n",
      "El archivo de la web española, \t\t\t\t--> es | es | https://www.bne.es/es/noticias/0728-maria-los-desarrolladores-de-aplicaciones-ya-disponen-de-un-sistema-de-inteligencia-artificial-experto-en-comprender-y-escribir-la-lengua-espaniola\n",
      "Masaje Relajante: tu tratamien \t\t\t\t--> es | es | https://corpovita.es/massage/masaje-relajante-5\n",
      "Gestión de usuarios del INAPG \t\t\t\t--> nan | nan | https://cas.inap.es/usermanager/public/actions/changePassword.jsf;jsessionid=D2CAC75A56A3481E9A3B3AE5D81EAFCB\n",
      "Alfarería de Cádiz - Colección \t\t\t\t--> es | nan | https://alfareria.stinus.es/alfareria-de-cadiz/\n",
      "Sistema Puerta a Puerta en 15  \t\t\t\t--> es-ES | nan | https://www.spora.es/es/projecte/sistema-puerta-a-puerta-en-15-municipios-del-girones/\n",
      "Biblioteca Virtual de Derecho  \t\t\t\t--> es | nan | https://derechoaragones.aragon.es/bvda/es/catalogo_imagenes/grupo.do?path=1697&presentacion=pagina&posicion=6&registrardownload=0\n",
      "Inicio | Instituto de Astrofís \t\t\t\t--> es | es | https://webpro-cms.ll.iac.es/es?page=6\n",
      "Escorts polacas en Santa Catar \t\t\t\t--> es | nan | https://electricistas-zaragoza.es/bdsm/B%C3%BAlgara-ana-santa-catarina-mechoacan.php\n",
      "Noticias y sala de prensa | Vi \t\t\t\t--> es-ES | nan | https://vithas.es/sala-de-prensa/page/3/\n",
      "Tomar partido: la organización \t\t\t\t--> en | nan | https://elcomun.es/2022/04/28/tomar-partido-la-organizacion-de-la-juventud-obrera/\n",
      "Bilatzailea - empleo_salud - n \t\t\t\t--> nan | nan | https://empleosalud.navarra.es/eu/buscador?p_p_id=com_liferay_portal_search_web_portlet_SearchPortlet&p_p_lifecycle=0&p_p_state=maximized&p_p_mode=view&_com_liferay_portal_search_web_portlet_SearchPortlet_redirect=%2Feu%2Fbuscador%3Fp_p_id%3Dcom_ricoh_navarra_empsal_search_portlet_EmpsalContentSearchPortlet_INSTANCE_Z6fmnYAcfelj%26p_p_lifecycle%3D0%26p_p_state%3Dnormal%26p_p_mode%3Dview%26_com_ricoh_navarra_empsal_search_portlet_EmpsalContentSearchPortlet_INSTANCE_Z6fmnYAcfelj_cur%3D91%26_com_ricoh_navarra_empsal_search_portlet_EmpsalContentSearchPortlet_INSTANCE_Z6fmnYAcfelj_resetCur%3Dfalse%26_com_ricoh_navarra_empsal_search_portlet_EmpsalContentSearchPortlet_INSTANCE_Z6fmnYAcfelj_delta%3D75&_com_liferay_portal_search_web_portlet_SearchPortlet_assetEntryId=20422249&_com_liferay_portal_search_web_portlet_SearchPortlet_mvcPath=%2Fview_content.jsp&_com_liferay_portal_search_web_portlet_SearchPortlet_type=content\n",
      "{{left-columns-heading}}{{rig \t\t\t\t--> es | nan | https://mercadomislata.es/bar-cafeteria-mercado/\n",
      "Hoteles en Málaga, España | En \t\t\t\t--> es | nan | https://www.trivago.es/es/opr/hoteles-cerca-de-centro?search=500-1963805\n",
      "Vídeos | Sevilla FCPasar al c \t\t\t\t--> es | es | https://sevillafc.es/actualidad/videos?category=326&page=4\n",
      "sintetizador de subarmónicos – \t\t\t\t--> es | nan | https://www.audiosatpro.es/index.php/tag/sintetizador-de-subarmonicos/\n",
      "Vender una casa con termitas.. \t\t\t\t--> es-ES | nan | https://www.idcontrol.es/vender-una-casa-con-termitas/\n",
      "Un gran campamento de migrante \t\t\t\t--> es | nan | https://www.eldiario.es/desalambre/gran-campamento-migrantes-llamado-canarias_1_6449017.html\n",
      "INCOMUNER II - AIN : Asociació \t\t\t\t--> nan | nan | https://www.ain.es/archivo-proyectos/incomuner-ii/\n"
     ]
    }
   ],
   "source": [
    "for record in warc_records:\n",
    "    text = warc_chunk.get_text(record)[:30].replace('\\n', '')\n",
    "    html_lang = warc_chunk.get_metadata(record, 'HTML-Language')\n",
    "    content_language = warc_chunk.get_metadata(record, 'Content-Language')\n",
    "    url = warc_chunk.get_metadata(record, 'WARC-Target-URI')\n",
    "    print(f'{text} \\t\\t\\t\\t--> {html_lang} | {content_language} | {url}')"
   ]
  },
  {
   "cell_type": "code",
   "execution_count": null,
   "id": "acc8a70d-aef7-452a-9cec-dc832eb71ebc",
   "metadata": {},
   "outputs": [],
   "source": []
  }
 ],
 "metadata": {
  "kernelspec": {
   "display_name": "Python 3 (ipykernel)",
   "language": "python",
   "name": "python3"
  },
  "language_info": {
   "codemirror_mode": {
    "name": "ipython",
    "version": 3
   },
   "file_extension": ".py",
   "mimetype": "text/x-python",
   "name": "python",
   "nbconvert_exporter": "python",
   "pygments_lexer": "ipython3",
   "version": "3.10.11"
  }
 },
 "nbformat": 4,
 "nbformat_minor": 5
}
