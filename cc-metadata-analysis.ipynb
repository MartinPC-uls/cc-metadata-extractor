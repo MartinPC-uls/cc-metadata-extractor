{
 "cells": [
  {
   "cell_type": "code",
   "execution_count": 33,
   "id": "0",
   "metadata": {},
   "outputs": [],
   "source": [
    "import matplotlib.pyplot as plt\n",
    "import pandas as pd\n",
    "import gc\n",
    "import os\n",
    "\n",
    "from collections import Counter\n",
    "from itertools import islice"
   ]
  },
  {
   "cell_type": "markdown",
   "id": "1",
   "metadata": {},
   "source": [
    "# Reading the whole dataset and loading it into memory"
   ]
  },
  {
   "cell_type": "code",
   "execution_count": 22,
   "id": "2",
   "metadata": {},
   "outputs": [
    {
     "data": {
      "text/plain": [
       "11666891"
      ]
     },
     "execution_count": 22,
     "metadata": {},
     "output_type": "execute_result"
    }
   ],
   "source": [
    "folder_path = 'dataset-2gb'\n",
    "csv_files = [file for file in os.listdir(folder_path) if file.endswith('.csv')]\n",
    "df = pd.DataFrame()\n",
    "\n",
    "for csv_file in csv_files:\n",
    "    file_path = os.path.join(folder_path, csv_file)\n",
    "    temp_df = pd.read_csv(file_path)\n",
    "    df = pd.concat([df, temp_df], ignore_index=True)\n",
    "\n",
    "len(df)"
   ]
  },
  {
   "cell_type": "code",
   "execution_count": 23,
   "id": "3",
   "metadata": {},
   "outputs": [],
   "source": [
    "df.fillna('', inplace=True)"
   ]
  },
  {
   "cell_type": "markdown",
   "id": "4",
   "metadata": {},
   "source": [
    "## Setting up variables"
   ]
  },
  {
   "cell_type": "code",
   "execution_count": 24,
   "id": "5",
   "metadata": {},
   "outputs": [
    {
     "name": "stdout",
     "output_type": "stream",
     "text": [
      "Domains: 1913\n",
      "Content Languages: 789\n",
      "HTML Languages: 1567\n",
      "HTML Dirs: 4\n",
      "\n",
      "Total size of labels: 4273\n",
      "Records analized: 11666891 (296/80000 chunks, 0.37%)\n"
     ]
    }
   ],
   "source": [
    "domains = list(set(df['Domain'].tolist()))\n",
    "_domains = df['Domain'].tolist()\n",
    "\n",
    "#content_languages = list(set(df['Content_Language'].tolist()))\n",
    "content_languages = []\n",
    "for content_language in df['Content_Language'].tolist():\n",
    "    langs = content_language.lower().strip().replace(' ', '').replace('_', '-').split(',')\n",
    "    content_languages.extend(langs)\n",
    "_content_languages = content_languages\n",
    "content_languages = list(set(content_languages))\n",
    "\n",
    "#html_langs = list(set(df['HTML_Language'].tolist()))\n",
    "html_langs = []\n",
    "for html_lang in df['HTML_Language'].tolist():\n",
    "    langs = html_lang.lower().strip().replace(' ', '').replace('_', '-').split(',')\n",
    "    html_langs.extend(langs)\n",
    "_html_langs = html_langs\n",
    "html_langs = list(set(html_langs))\n",
    "\n",
    "html_dirs = list(set(df['HTML_Dir'].tolist()))\n",
    "_html_dirs = df['HTML_Dir'].tolist()\n",
    "\n",
    "print(f'Domains: {len(domains)}')\n",
    "print(f'Content Languages: {len(content_languages)}')\n",
    "print(f'HTML Languages: {len(html_langs)}')\n",
    "print(f'HTML Dirs: {len(html_dirs)}')\n",
    "print(f'\\nTotal size of labels: {len(domains) + len(content_languages) + len(html_langs) + len(html_dirs)}')\n",
    "print(f'Records analized: {len(df)} ({len(csv_files)}/80000 chunks, {len(csv_files)/80000*100}%)')"
   ]
  },
  {
   "cell_type": "code",
   "execution_count": 25,
   "id": "6",
   "metadata": {},
   "outputs": [],
   "source": [
    "dict_domains = dict(sorted(dict(Counter(_domains)).items(), key=lambda item: item[1], reverse=True))\n",
    "dict_content_languages = dict(sorted(dict(Counter(_content_languages)).items(), key=lambda item: item[1], reverse=True))\n",
    "dict_html_langs = dict(sorted(dict(Counter(_html_langs)).items(), key=lambda item: item[1], reverse=True))\n",
    "dict_html_dirs = dict(sorted(dict(Counter(_html_dirs)).items(), key=lambda item: item[1], reverse=True))"
   ]
  },
  {
   "cell_type": "markdown",
   "id": "7",
   "metadata": {},
   "source": [
    "## Helper function to show metadata with exclution"
   ]
  },
  {
   "cell_type": "code",
   "execution_count": 37,
   "id": "8",
   "metadata": {},
   "outputs": [],
   "source": [
    "def show_metadata(data, exclude=[], show=None, above=0):\n",
    "    if isinstance(exclude, str):\n",
    "        exclude = [exclude]\n",
    "    if exclude is not None and len(exclude) != 0:\n",
    "        exclution = ''\n",
    "        for i, ex in enumerate(exclude):\n",
    "            exclution += f'\"{ex}\" ({data[ex]}, {(data[ex]/len(df)*100):.2f}%)'\n",
    "            if i+1 != len(exclude):\n",
    "                exclution += ', '\n",
    "            \n",
    "        print(f'Exclude: {exclution}\\n')\n",
    "    exclude_value = sum([data[k] for k in exclude])\n",
    "    length = len(df) - exclude_value\n",
    "    for t, count in data.items() if show is None else islice(data.items(), show):\n",
    "        if t in exclude: continue\n",
    "        val = count/length\n",
    "        if val < above: continue\n",
    "        print(f'{t}\\t{count}\\t({(val*100):.2f}%)')"
   ]
  },
  {
   "cell_type": "markdown",
   "id": "9",
   "metadata": {},
   "source": [
    "## Domains"
   ]
  },
  {
   "cell_type": "code",
   "execution_count": 49,
   "id": "10",
   "metadata": {},
   "outputs": [
    {
     "name": "stdout",
     "output_type": "stream",
     "text": [
      "com\t5556023\t(47.62%)\n",
      "org\t721456\t(6.18%)\n",
      "ru\t508301\t(4.36%)\n",
      "de\t507854\t(4.35%)\n",
      "net\t420029\t(3.60%)\n",
      "fr\t225891\t(1.94%)\n",
      "it\t224770\t(1.93%)\n",
      "nl\t199599\t(1.71%)\n",
      "pl\t187134\t(1.60%)\n",
      "jp\t176847\t(1.52%)\n",
      "edu\t160917\t(1.38%)\n",
      "cz\t124781\t(1.07%)\n"
     ]
    }
   ],
   "source": [
    "show_metadata(dict_domains, above=.01)"
   ]
  },
  {
   "cell_type": "markdown",
   "id": "11",
   "metadata": {},
   "source": [
    "## Domains excluding 'com'"
   ]
  },
  {
   "cell_type": "code",
   "execution_count": 52,
   "id": "12",
   "metadata": {},
   "outputs": [
    {
     "name": "stdout",
     "output_type": "stream",
     "text": [
      "Exclude: \"com\" (5556023, 47.62%)\n",
      "\n",
      "org\t721456\t(11.81%)\n",
      "ru\t508301\t(8.32%)\n",
      "de\t507854\t(8.31%)\n",
      "net\t420029\t(6.87%)\n",
      "fr\t225891\t(3.70%)\n",
      "it\t224770\t(3.68%)\n",
      "nl\t199599\t(3.27%)\n",
      "pl\t187134\t(3.06%)\n",
      "jp\t176847\t(2.89%)\n",
      "edu\t160917\t(2.63%)\n",
      "cz\t124781\t(2.04%)\n",
      "es\t115281\t(1.89%)\n",
      "ca\t110402\t(1.81%)\n",
      "cn\t86986\t(1.42%)\n",
      "info\t84147\t(1.38%)\n",
      "eu\t83389\t(1.36%)\n",
      "ch\t73207\t(1.20%)\n",
      "se\t71783\t(1.17%)\n",
      "be\t71745\t(1.17%)\n",
      "hu\t66153\t(1.08%)\n",
      "ro\t65314\t(1.07%)\n",
      "vn\t61548\t(1.01%)\n"
     ]
    }
   ],
   "source": [
    "show_metadata(dict_domains, exclude='com', above=.01)"
   ]
  },
  {
   "cell_type": "markdown",
   "id": "13",
   "metadata": {},
   "source": [
    "## Content Languages"
   ]
  },
  {
   "cell_type": "code",
   "execution_count": 54,
   "id": "14",
   "metadata": {},
   "outputs": [
    {
     "name": "stdout",
     "output_type": "stream",
     "text": [
      "\t10467437\t(89.72%)\n",
      "en\t480097\t(4.12%)\n",
      "en-us\t303361\t(2.60%)\n"
     ]
    }
   ],
   "source": [
    "show_metadata(dict_content_languages, above=.01)"
   ]
  },
  {
   "cell_type": "markdown",
   "id": "15",
   "metadata": {},
   "source": [
    "## Content Languages excluding ''"
   ]
  },
  {
   "cell_type": "code",
   "execution_count": 55,
   "id": "16",
   "metadata": {},
   "outputs": [
    {
     "name": "stdout",
     "output_type": "stream",
     "text": [
      "Exclude: \"\" (10467437, 89.72%)\n",
      "\n",
      "en\t480097\t(40.03%)\n",
      "en-us\t303361\t(25.29%)\n",
      "de\t68033\t(5.67%)\n",
      "fr\t50771\t(4.23%)\n",
      "es\t28463\t(2.37%)\n",
      "ru\t23626\t(1.97%)\n",
      "it\t18309\t(1.53%)\n",
      "nl\t15781\t(1.32%)\n",
      "en-gb\t14712\t(1.23%)\n",
      "ja\t12043\t(1.00%)\n"
     ]
    }
   ],
   "source": [
    "show_metadata(dict_content_languages, exclude='', above=.01)"
   ]
  },
  {
   "cell_type": "markdown",
   "id": "17",
   "metadata": {},
   "source": [
    "## Content Languages excluding also 'en' and 'en-us'"
   ]
  },
  {
   "cell_type": "code",
   "execution_count": 57,
   "id": "18",
   "metadata": {},
   "outputs": [
    {
     "name": "stdout",
     "output_type": "stream",
     "text": [
      "Exclude: \"\" (10467437, 89.72%), \"en\" (480097, 4.12%), \"en-us\" (303361, 2.60%)\n",
      "\n",
      "de\t68033\t(16.35%)\n",
      "fr\t50771\t(12.20%)\n",
      "es\t28463\t(6.84%)\n",
      "ru\t23626\t(5.68%)\n",
      "it\t18309\t(4.40%)\n",
      "nl\t15781\t(3.79%)\n",
      "en-gb\t14712\t(3.54%)\n",
      "ja\t12043\t(2.89%)\n",
      "zh-cn\t10960\t(2.63%)\n",
      "cs\t7394\t(1.78%)\n",
      "pl\t7256\t(1.74%)\n",
      "de-de\t7128\t(1.71%)\n",
      "pt-br\t5659\t(1.36%)\n",
      "da\t5017\t(1.21%)\n",
      "fi\t4533\t(1.09%)\n",
      "hu\t4444\t(1.07%)\n"
     ]
    }
   ],
   "source": [
    "show_metadata(dict_content_languages, exclude=['', 'en', 'en-us'], above=.01)"
   ]
  },
  {
   "cell_type": "markdown",
   "id": "19",
   "metadata": {},
   "source": [
    "## HTML Languages"
   ]
  },
  {
   "cell_type": "code",
   "execution_count": 58,
   "id": "20",
   "metadata": {},
   "outputs": [
    {
     "name": "stdout",
     "output_type": "stream",
     "text": [
      "en\t2431896\t(20.84%)\n",
      "\t2341553\t(20.07%)\n",
      "en-us\t1867976\t(16.01%)\n",
      "ja\t446256\t(3.82%)\n",
      "es\t357392\t(3.06%)\n",
      "ru\t318844\t(2.73%)\n",
      "de-de\t317348\t(2.72%)\n",
      "de\t296153\t(2.54%)\n",
      "en-gb\t244499\t(2.10%)\n",
      "fr\t241745\t(2.07%)\n",
      "fr-fr\t236809\t(2.03%)\n",
      "ru-ru\t200706\t(1.72%)\n",
      "nl\t184533\t(1.58%)\n",
      "it-it\t176497\t(1.51%)\n",
      "zh-cn\t129874\t(1.11%)\n"
     ]
    }
   ],
   "source": [
    "show_metadata(dict_html_langs, above=.01)"
   ]
  },
  {
   "cell_type": "markdown",
   "id": "21",
   "metadata": {},
   "source": [
    "## HTML Languages excluding '', 'en', 'en-us'"
   ]
  },
  {
   "cell_type": "code",
   "execution_count": 59,
   "id": "22",
   "metadata": {},
   "outputs": [
    {
     "name": "stdout",
     "output_type": "stream",
     "text": [
      "Exclude: \"\" (2341553, 20.07%), \"en\" (2431896, 20.84%), \"en-us\" (1867976, 16.01%)\n",
      "\n",
      "ja\t446256\t(8.88%)\n",
      "es\t357392\t(7.11%)\n",
      "ru\t318844\t(6.34%)\n",
      "de-de\t317348\t(6.31%)\n",
      "de\t296153\t(5.89%)\n",
      "en-gb\t244499\t(4.87%)\n",
      "fr\t241745\t(4.81%)\n",
      "fr-fr\t236809\t(4.71%)\n",
      "ru-ru\t200706\t(3.99%)\n",
      "nl\t184533\t(3.67%)\n",
      "it-it\t176497\t(3.51%)\n",
      "zh-cn\t129874\t(2.58%)\n",
      "it\t90485\t(1.80%)\n",
      "pl-pl\t87035\t(1.73%)\n",
      "cs\t85978\t(1.71%)\n",
      "vi\t76816\t(1.53%)\n",
      "tr\t75594\t(1.50%)\n",
      "pl\t72763\t(1.45%)\n",
      "es-es\t61614\t(1.23%)\n",
      "pt-br\t54233\t(1.08%)\n",
      "ko\t53067\t(1.06%)\n",
      "ar\t52626\t(1.05%)\n",
      "hu\t51267\t(1.02%)\n"
     ]
    }
   ],
   "source": [
    "show_metadata(dict_html_langs, exclude=['', 'en', 'en-us'], above=.01)"
   ]
  },
  {
   "cell_type": "markdown",
   "id": "23",
   "metadata": {},
   "source": [
    "## HTML Dirs"
   ]
  },
  {
   "cell_type": "code",
   "execution_count": 60,
   "id": "24",
   "metadata": {},
   "outputs": [
    {
     "name": "stdout",
     "output_type": "stream",
     "text": [
      "\t10253755\t(87.89%)\n",
      "ltr\t1288194\t(11.04%)\n",
      "rtl\t118756\t(1.02%)\n",
      "auto\t6186\t(0.05%)\n"
     ]
    }
   ],
   "source": [
    "show_metadata(dict_html_dirs)"
   ]
  },
  {
   "cell_type": "markdown",
   "id": "25",
   "metadata": {},
   "source": [
    "## HTML Dirs excluding ''"
   ]
  },
  {
   "cell_type": "code",
   "execution_count": 61,
   "id": "26",
   "metadata": {},
   "outputs": [
    {
     "name": "stdout",
     "output_type": "stream",
     "text": [
      "Exclude: \"\" (10253755, 87.89%)\n",
      "\n",
      "ltr\t1288194\t(91.16%)\n",
      "rtl\t118756\t(8.40%)\n",
      "auto\t6186\t(0.44%)\n"
     ]
    }
   ],
   "source": [
    "show_metadata(dict_html_dirs, exclude='')"
   ]
  },
  {
   "cell_type": "code",
   "execution_count": null,
   "id": "27",
   "metadata": {},
   "outputs": [],
   "source": []
  }
 ],
 "metadata": {
  "kernelspec": {
   "display_name": "Python 3 (ipykernel)",
   "language": "python",
   "name": "python3"
  },
  "language_info": {
   "codemirror_mode": {
    "name": "ipython",
    "version": 3
   },
   "file_extension": ".py",
   "mimetype": "text/x-python",
   "name": "python",
   "nbconvert_exporter": "python",
   "pygments_lexer": "ipython3",
   "version": "3.10.11"
  }
 },
 "nbformat": 4,
 "nbformat_minor": 5
}
