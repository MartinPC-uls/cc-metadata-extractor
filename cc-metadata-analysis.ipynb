{
 "cells": [
  {
   "cell_type": "code",
   "execution_count": 7,
   "id": "0",
   "metadata": {},
   "outputs": [],
   "source": [
    "import gc\n",
    "import os\n",
    "\n",
    "import matplotlib.pyplot as plt\n",
    "import pandas as pd\n",
    "\n",
    "from collections import Counter\n",
    "from itertools import islice\n",
    "from tqdm import tqdm"
   ]
  },
  {
   "cell_type": "code",
   "execution_count": 11,
   "id": "56dfa4e9-7e97-418b-b3e2-27c4481128f5",
   "metadata": {},
   "outputs": [],
   "source": [
    "def get_stats(df):\n",
    "    df.fillna('', inplace=True)\n",
    "    domains = df['Domain'].tolist()\n",
    "    \n",
    "    content_languages = []\n",
    "    for content_language in df['Content_Language'].tolist():\n",
    "        langs = content_language.lower().strip().replace(' ', '').replace('_', '-').split(',')\n",
    "        content_languages.extend(langs)\n",
    "    content_languages = content_languages\n",
    "    \n",
    "    html_langs = []\n",
    "    for html_lang in df['HTML_Language'].tolist():\n",
    "        langs = html_lang.lower().strip().replace(' ', '').replace('_', '-').split(',')\n",
    "        html_langs.extend(langs)\n",
    "    html_langs = html_langs\n",
    "    \n",
    "    html_dirs = df['HTML_Dir'].tolist()\n",
    "\n",
    "    return domains, content_languages, html_langs, html_dirs"
   ]
  },
  {
   "cell_type": "code",
   "execution_count": 15,
   "id": "fc15abda-128c-439a-9477-199476de982c",
   "metadata": {},
   "outputs": [
    {
     "name": "stderr",
     "output_type": "stream",
     "text": [
      "Processing CSV files: 100%|██████████████████████████████████████████████████████| 3013/3013 [08:43<00:00,  5.75file/s]\n"
     ]
    }
   ],
   "source": [
    "folder_path = 'dest'\n",
    "csv_files = [file for file in os.listdir(folder_path) if file.endswith('.csv')]\n",
    "\n",
    "total_domains = []\n",
    "total_content_languages = []\n",
    "total_html_langs = []\n",
    "total_html_dirs = []\n",
    "\n",
    "for csv_file in tqdm(csv_files, desc='Processing CSV files', unit='file'):\n",
    "    file_path = os.path.join(folder_path, csv_file)\n",
    "    df = pd.read_csv(file_path)\n",
    "    domains, content_languages, html_langs, html_dirs = get_stats(df)\n",
    "    total_domains.extend(domains)\n",
    "    total_content_languages.extend(content_languages)\n",
    "    total_html_langs.extend(html_langs)\n",
    "    total_html_dirs.extend(html_dirs)\n",
    "\n",
    "dict_domains = dict(sorted(dict(Counter(total_domains)).items(), key=lambda item: item[1], reverse=True))\n",
    "dict_content_languages = dict(sorted(dict(Counter(total_content_languages)).items(), key=lambda item: item[1], reverse=True))\n",
    "dict_html_langs = dict(sorted(dict(Counter(total_html_langs)).items(), key=lambda item: item[1], reverse=True))\n",
    "dict_html_dirs = dict(sorted(dict(Counter(total_html_dirs)).items(), key=lambda item: item[1], reverse=True))"
   ]
  },
  {
   "cell_type": "code",
   "execution_count": 52,
   "id": "0f7d8213-8ea9-424d-ae83-9687f5ae3185",
   "metadata": {},
   "outputs": [],
   "source": [
    "length = len(total_domains)"
   ]
  },
  {
   "cell_type": "code",
   "execution_count": 53,
   "id": "45068758-07b7-4266-9c86-d3c2bbeaad73",
   "metadata": {},
   "outputs": [],
   "source": [
    "del total_domains, total_content_languages, total_html_langs, total_html_dirs"
   ]
  },
  {
   "cell_type": "markdown",
   "id": "7",
   "metadata": {},
   "source": [
    "## Helper functions to show metadata with exclution or only the data specified"
   ]
  },
  {
   "cell_type": "code",
   "execution_count": 59,
   "id": "8",
   "metadata": {},
   "outputs": [],
   "source": [
    "def show_metadata(data, exclude=[], show=None, above=0):\n",
    "    if isinstance(exclude, str):\n",
    "        exclude = [exclude]\n",
    "    if exclude is not None and len(exclude) != 0:\n",
    "        exclution = ''\n",
    "        for i, ex in enumerate(exclude):\n",
    "            exclution += f'\"{ex}\" ({data[ex]}, {(data[ex]/length*100):.2f}%)'\n",
    "            if i+1 != len(exclude):\n",
    "                exclution += ', '\n",
    "            \n",
    "        print(f'Exclude: {exclution}\\n')\n",
    "    exclude_value = sum([data[k] for k in exclude])\n",
    "    _length = length - exclude_value\n",
    "    for t, count in data.items() if show is None else islice(data.items(), show):\n",
    "        if t in exclude: continue\n",
    "        val = count/_length\n",
    "        if val < above: continue\n",
    "        print(f'{t}\\t{count}\\t({(val*100):.2f}%)')"
   ]
  },
  {
   "cell_type": "code",
   "execution_count": 72,
   "id": "7bd5b4f3-fac5-4173-8330-d44f70fac96c",
   "metadata": {},
   "outputs": [],
   "source": [
    "def show_metadata_only(data, *args):\n",
    "    match_list = list(args)\n",
    "    for t, count in data.items():\n",
    "        if t not in match_list: continue\n",
    "        print(f'{t}\\t{count}\\t({(count/length*100):.2f}%)')"
   ]
  },
  {
   "cell_type": "markdown",
   "id": "9",
   "metadata": {},
   "source": [
    "## Domains"
   ]
  },
  {
   "cell_type": "code",
   "execution_count": 73,
   "id": "10",
   "metadata": {},
   "outputs": [
    {
     "name": "stdout",
     "output_type": "stream",
     "text": [
      "com\t56219138\t(47.70%)\n",
      "org\t7258788\t(6.16%)\n",
      "de\t5158771\t(4.38%)\n",
      "ru\t5066486\t(4.30%)\n",
      "net\t4314619\t(3.66%)\n",
      "fr\t2255271\t(1.91%)\n",
      "it\t2249346\t(1.91%)\n",
      "nl\t2059938\t(1.75%)\n",
      "pl\t1933734\t(1.64%)\n",
      "jp\t1766756\t(1.50%)\n",
      "edu\t1679683\t(1.43%)\n",
      "cz\t1278170\t(1.08%)\n"
     ]
    }
   ],
   "source": [
    "show_metadata(dict_domains, above=.01)"
   ]
  },
  {
   "cell_type": "markdown",
   "id": "11",
   "metadata": {},
   "source": [
    "## Domains excluding 'com'"
   ]
  },
  {
   "cell_type": "code",
   "execution_count": 74,
   "id": "12",
   "metadata": {},
   "outputs": [
    {
     "name": "stdout",
     "output_type": "stream",
     "text": [
      "Exclude: \"com\" (56219138, 47.70%)\n",
      "\n",
      "org\t7258788\t(11.78%)\n",
      "de\t5158771\t(8.37%)\n",
      "ru\t5066486\t(8.22%)\n",
      "net\t4314619\t(7.00%)\n",
      "fr\t2255271\t(3.66%)\n",
      "it\t2249346\t(3.65%)\n",
      "nl\t2059938\t(3.34%)\n",
      "pl\t1933734\t(3.14%)\n",
      "jp\t1766756\t(2.87%)\n",
      "edu\t1679683\t(2.73%)\n",
      "cz\t1278170\t(2.07%)\n",
      "es\t1159578\t(1.88%)\n",
      "ca\t1072655\t(1.74%)\n",
      "cn\t872561\t(1.42%)\n",
      "info\t856256\t(1.39%)\n",
      "eu\t850337\t(1.38%)\n",
      "ch\t750286\t(1.22%)\n",
      "se\t731373\t(1.19%)\n",
      "be\t693294\t(1.12%)\n",
      "hu\t655533\t(1.06%)\n",
      "ro\t650853\t(1.06%)\n",
      "in\t630180\t(1.02%)\n",
      "gr\t624943\t(1.01%)\n"
     ]
    }
   ],
   "source": [
    "show_metadata(dict_domains, exclude='com', above=.01)"
   ]
  },
  {
   "cell_type": "markdown",
   "id": "13",
   "metadata": {},
   "source": [
    "## Content Languages"
   ]
  },
  {
   "cell_type": "code",
   "execution_count": 93,
   "id": "14",
   "metadata": {},
   "outputs": [
    {
     "name": "stdout",
     "output_type": "stream",
     "text": [
      "\t105570646\t(89.58%)\n",
      "en\t5011794\t(4.25%)\n",
      "en-us\t3036416\t(2.58%)\n",
      "de\t703220\t(0.60%)\n",
      "fr\t504827\t(0.43%)\n",
      "es\t312686\t(0.27%)\n",
      "ru\t231258\t(0.20%)\n",
      "it\t188411\t(0.16%)\n",
      "nl\t166804\t(0.14%)\n",
      "en-gb\t149038\t(0.13%)\n",
      "zh-cn\t127865\t(0.11%)\n",
      "ja\t117963\t(0.10%)\n"
     ]
    }
   ],
   "source": [
    "show_metadata(dict_content_languages, above=.001)"
   ]
  },
  {
   "cell_type": "markdown",
   "id": "15",
   "metadata": {},
   "source": [
    "## Content Languages excluding ''"
   ]
  },
  {
   "cell_type": "code",
   "execution_count": 95,
   "id": "16",
   "metadata": {},
   "outputs": [
    {
     "name": "stdout",
     "output_type": "stream",
     "text": [
      "Exclude: \"\" (105570646, 89.58%)\n",
      "\n",
      "en\t5011794\t(40.81%)\n",
      "en-us\t3036416\t(24.73%)\n",
      "de\t703220\t(5.73%)\n",
      "fr\t504827\t(4.11%)\n",
      "es\t312686\t(2.55%)\n",
      "ru\t231258\t(1.88%)\n",
      "it\t188411\t(1.53%)\n",
      "nl\t166804\t(1.36%)\n",
      "en-gb\t149038\t(1.21%)\n",
      "zh-cn\t127865\t(1.04%)\n",
      "ja\t117963\t(0.96%)\n",
      "cs\t73201\t(0.60%)\n",
      "pl\t72879\t(0.59%)\n",
      "de-de\t65394\t(0.53%)\n",
      "pt-br\t53442\t(0.44%)\n",
      "da\t50067\t(0.41%)\n",
      "ar\t45560\t(0.37%)\n",
      "sv\t45134\t(0.37%)\n",
      "hu\t42543\t(0.35%)\n",
      "fi\t42318\t(0.34%)\n",
      "el\t42019\t(0.34%)\n",
      "ko\t40503\t(0.33%)\n",
      "fr-fr\t40488\t(0.33%)\n",
      "zh-tw\t37834\t(0.31%)\n",
      "fa\t30576\t(0.25%)\n",
      "vi\t29933\t(0.24%)\n",
      "ca\t29677\t(0.24%)\n",
      "es-es\t28803\t(0.23%)\n",
      "pt\t27465\t(0.22%)\n",
      "sk\t26766\t(0.22%)\n",
      "uk\t24599\t(0.20%)\n",
      "ro\t23098\t(0.19%)\n",
      "nb\t22594\t(0.18%)\n",
      "pt-pt\t22438\t(0.18%)\n",
      "tr\t22230\t(0.18%)\n",
      "it-it\t21903\t(0.18%)\n",
      "ja-jp\t18532\t(0.15%)\n",
      "en-ca\t17067\t(0.14%)\n",
      "sl\t16912\t(0.14%)\n",
      "zh\t16312\t(0.13%)\n",
      "nl-nl\t16176\t(0.13%)\n",
      "hr\t14689\t(0.12%)\n",
      "th\t14260\t(0.12%)\n",
      "da-dk\t14233\t(0.12%)\n",
      "bg\t14104\t(0.11%)\n",
      "he\t13819\t(0.11%)\n",
      "id\t13744\t(0.11%)\n",
      "lt\t12884\t(0.10%)\n",
      "et\t12747\t(0.10%)\n",
      "no\t12359\t(0.10%)\n"
     ]
    }
   ],
   "source": [
    "show_metadata(dict_content_languages, exclude='', above=.001)"
   ]
  },
  {
   "cell_type": "markdown",
   "id": "17",
   "metadata": {},
   "source": [
    "## Content Languages excluding also 'en' and 'en-us'"
   ]
  },
  {
   "cell_type": "code",
   "execution_count": 96,
   "id": "18",
   "metadata": {},
   "outputs": [
    {
     "name": "stdout",
     "output_type": "stream",
     "text": [
      "Exclude: \"\" (105570646, 89.58%), \"en\" (5011794, 4.25%), \"en-us\" (3036416, 2.58%)\n",
      "\n",
      "de\t703220\t(16.62%)\n",
      "fr\t504827\t(11.93%)\n",
      "es\t312686\t(7.39%)\n",
      "ru\t231258\t(5.47%)\n",
      "it\t188411\t(4.45%)\n",
      "nl\t166804\t(3.94%)\n",
      "en-gb\t149038\t(3.52%)\n",
      "zh-cn\t127865\t(3.02%)\n",
      "ja\t117963\t(2.79%)\n",
      "cs\t73201\t(1.73%)\n",
      "pl\t72879\t(1.72%)\n",
      "de-de\t65394\t(1.55%)\n",
      "pt-br\t53442\t(1.26%)\n",
      "da\t50067\t(1.18%)\n",
      "ar\t45560\t(1.08%)\n",
      "sv\t45134\t(1.07%)\n",
      "hu\t42543\t(1.01%)\n",
      "fi\t42318\t(1.00%)\n"
     ]
    }
   ],
   "source": [
    "show_metadata(dict_content_languages, exclude=['', 'en', 'en-us'], above=.01)"
   ]
  },
  {
   "cell_type": "markdown",
   "id": "19",
   "metadata": {},
   "source": [
    "## HTML Languages"
   ]
  },
  {
   "cell_type": "code",
   "execution_count": 97,
   "id": "20",
   "metadata": {},
   "outputs": [
    {
     "name": "stdout",
     "output_type": "stream",
     "text": [
      "\t25092011\t(21.29%)\n",
      "en\t24578987\t(20.86%)\n",
      "en-us\t18288050\t(15.52%)\n",
      "ja\t4481436\t(3.80%)\n",
      "es\t3564853\t(3.02%)\n",
      "ru\t3206506\t(2.72%)\n",
      "de-de\t3165381\t(2.69%)\n",
      "de\t2957113\t(2.51%)\n",
      "fr\t2423999\t(2.06%)\n",
      "en-gb\t2364529\t(2.01%)\n",
      "fr-fr\t2352993\t(2.00%)\n",
      "ru-ru\t1983318\t(1.68%)\n",
      "nl\t1876985\t(1.59%)\n",
      "it-it\t1752889\t(1.49%)\n",
      "zh-cn\t1221536\t(1.04%)\n",
      "cs\t930701\t(0.79%)\n",
      "it\t911580\t(0.77%)\n",
      "pl-pl\t869587\t(0.74%)\n",
      "pl\t776726\t(0.66%)\n",
      "vi\t765190\t(0.65%)\n",
      "tr\t734899\t(0.62%)\n",
      "es-es\t607663\t(0.52%)\n",
      "ko\t552580\t(0.47%)\n",
      "pt-br\t541880\t(0.46%)\n",
      "ar\t530938\t(0.45%)\n",
      "hu\t499287\t(0.42%)\n",
      "fa-ir\t470210\t(0.40%)\n",
      "el\t436831\t(0.37%)\n",
      "sv-se\t379123\t(0.32%)\n",
      "fi\t355725\t(0.30%)\n",
      "sv\t320037\t(0.27%)\n",
      "zh-tw\t287437\t(0.24%)\n",
      "id-id\t265768\t(0.23%)\n",
      "nl-nl\t261403\t(0.22%)\n",
      "pt\t260267\t(0.22%)\n",
      "zh\t253403\t(0.22%)\n",
      "ro\t244242\t(0.21%)\n",
      "en-ca\t236491\t(0.20%)\n",
      "th\t235147\t(0.20%)\n",
      "ro-ro\t234282\t(0.20%)\n",
      "da-dk\t227634\t(0.19%)\n",
      "uk\t220008\t(0.19%)\n",
      "pt-pt\t217474\t(0.18%)\n",
      "sk\t215240\t(0.18%)\n",
      "da\t191062\t(0.16%)\n",
      "ca\t182544\t(0.15%)\n",
      "en-au\t181780\t(0.15%)\n",
      "fa\t161883\t(0.14%)\n",
      "cs-cz\t151425\t(0.13%)\n",
      "nb-no\t148788\t(0.13%)\n",
      "sk-sk\t148233\t(0.13%)\n",
      "hr\t145848\t(0.12%)\n",
      "es-mx\t130185\t(0.11%)\n",
      "bg-bg\t129155\t(0.11%)\n",
      "id\t127922\t(0.11%)\n",
      "bg\t126321\t(0.11%)\n",
      "no\t122841\t(0.10%)\n",
      "ja-jp\t121381\t(0.10%)\n",
      "vi-vn\t121175\t(0.10%)\n",
      "et\t116627\t(0.10%)\n",
      "tr-tr\t111979\t(0.10%)\n",
      "sr-rs\t97123\t(0.08%)\n",
      "sl-si\t82264\t(0.07%)\n",
      "es-ar\t81313\t(0.07%)\n",
      "lt-lt\t79066\t(0.07%)\n",
      "de-ch\t74388\t(0.06%)\n",
      "ko-kr\t74347\t(0.06%)\n",
      "zh-hant\t72432\t(0.06%)\n",
      "nl-be\t68753\t(0.06%)\n",
      "lt\t67159\t(0.06%)\n",
      "fr-ca\t63235\t(0.05%)\n",
      "sl\t62576\t(0.05%)\n",
      "zh-hans\t62467\t(0.05%)\n",
      "nb\t61305\t(0.05%)\n",
      "hu-hu\t60590\t(0.05%)\n",
      "he-il\t60037\t(0.05%)\n",
      "el-gr\t59401\t(0.05%)\n"
     ]
    }
   ],
   "source": [
    "show_metadata(dict_html_langs, above=.0005)"
   ]
  },
  {
   "cell_type": "code",
   "execution_count": 98,
   "id": "2d5232ff-a6e7-4f15-96f3-4c5a1a51657a",
   "metadata": {},
   "outputs": [
    {
     "data": {
      "text/plain": [
       "6116"
      ]
     },
     "execution_count": 98,
     "metadata": {},
     "output_type": "execute_result"
    }
   ],
   "source": [
    "len(dict_html_langs)"
   ]
  },
  {
   "cell_type": "markdown",
   "id": "21",
   "metadata": {},
   "source": [
    "## HTML Languages excluding '', 'en', 'en-us'"
   ]
  },
  {
   "cell_type": "code",
   "execution_count": 99,
   "id": "22",
   "metadata": {},
   "outputs": [
    {
     "name": "stdout",
     "output_type": "stream",
     "text": [
      "Exclude: \"\" (25092011, 21.29%), \"en\" (24578987, 20.86%), \"en-us\" (18288050, 15.52%)\n",
      "\n",
      "ja\t4481436\t(8.98%)\n",
      "es\t3564853\t(7.15%)\n",
      "ru\t3206506\t(6.43%)\n",
      "de-de\t3165381\t(6.34%)\n",
      "de\t2957113\t(5.93%)\n",
      "fr\t2423999\t(4.86%)\n",
      "en-gb\t2364529\t(4.74%)\n",
      "fr-fr\t2352993\t(4.72%)\n",
      "ru-ru\t1983318\t(3.98%)\n",
      "nl\t1876985\t(3.76%)\n",
      "it-it\t1752889\t(3.51%)\n",
      "zh-cn\t1221536\t(2.45%)\n",
      "cs\t930701\t(1.87%)\n",
      "it\t911580\t(1.83%)\n",
      "pl-pl\t869587\t(1.74%)\n",
      "pl\t776726\t(1.56%)\n",
      "vi\t765190\t(1.53%)\n",
      "tr\t734899\t(1.47%)\n",
      "es-es\t607663\t(1.22%)\n",
      "ko\t552580\t(1.11%)\n",
      "pt-br\t541880\t(1.09%)\n",
      "ar\t530938\t(1.06%)\n",
      "hu\t499287\t(1.00%)\n",
      "fa-ir\t470210\t(0.94%)\n",
      "el\t436831\t(0.88%)\n",
      "sv-se\t379123\t(0.76%)\n",
      "fi\t355725\t(0.71%)\n",
      "sv\t320037\t(0.64%)\n",
      "zh-tw\t287437\t(0.58%)\n",
      "id-id\t265768\t(0.53%)\n",
      "nl-nl\t261403\t(0.52%)\n",
      "pt\t260267\t(0.52%)\n",
      "zh\t253403\t(0.51%)\n",
      "ro\t244242\t(0.49%)\n",
      "en-ca\t236491\t(0.47%)\n",
      "th\t235147\t(0.47%)\n",
      "ro-ro\t234282\t(0.47%)\n",
      "da-dk\t227634\t(0.46%)\n",
      "uk\t220008\t(0.44%)\n",
      "pt-pt\t217474\t(0.44%)\n",
      "sk\t215240\t(0.43%)\n",
      "da\t191062\t(0.38%)\n",
      "ca\t182544\t(0.37%)\n",
      "en-au\t181780\t(0.36%)\n",
      "fa\t161883\t(0.32%)\n",
      "cs-cz\t151425\t(0.30%)\n",
      "nb-no\t148788\t(0.30%)\n",
      "sk-sk\t148233\t(0.30%)\n",
      "hr\t145848\t(0.29%)\n",
      "es-mx\t130185\t(0.26%)\n",
      "bg-bg\t129155\t(0.26%)\n",
      "id\t127922\t(0.26%)\n",
      "bg\t126321\t(0.25%)\n",
      "no\t122841\t(0.25%)\n",
      "ja-jp\t121381\t(0.24%)\n",
      "vi-vn\t121175\t(0.24%)\n",
      "et\t116627\t(0.23%)\n",
      "tr-tr\t111979\t(0.22%)\n",
      "sr-rs\t97123\t(0.19%)\n",
      "sl-si\t82264\t(0.16%)\n",
      "es-ar\t81313\t(0.16%)\n",
      "lt-lt\t79066\t(0.16%)\n",
      "de-ch\t74388\t(0.15%)\n",
      "ko-kr\t74347\t(0.15%)\n",
      "zh-hant\t72432\t(0.15%)\n",
      "nl-be\t68753\t(0.14%)\n",
      "lt\t67159\t(0.13%)\n",
      "fr-ca\t63235\t(0.13%)\n",
      "sl\t62576\t(0.13%)\n",
      "zh-hans\t62467\t(0.13%)\n",
      "nb\t61305\t(0.12%)\n",
      "hu-hu\t60590\t(0.12%)\n",
      "he-il\t60037\t(0.12%)\n",
      "el-gr\t59401\t(0.12%)\n",
      "sr\t54933\t(0.11%)\n",
      "de-at\t52621\t(0.11%)\n",
      "us\t52147\t(0.10%)\n",
      "he\t50212\t(0.10%)\n",
      "lv\t49176\t(0.10%)\n",
      "es-cl\t44751\t(0.09%)\n",
      "zh-hant-tw\t41934\t(0.08%)\n",
      "zh-hk\t39604\t(0.08%)\n",
      "es-co\t39110\t(0.08%)\n",
      "hi\t38992\t(0.08%)\n",
      "zxx\t35129\t(0.07%)\n",
      "uk-ua\t32057\t(0.06%)\n",
      "en-nz\t31183\t(0.06%)\n",
      "bs-ba\t30882\t(0.06%)\n",
      "fr-be\t29841\t(0.06%)\n",
      "fi-fi\t29288\t(0.06%)\n",
      "az\t29112\t(0.06%)\n",
      "eu\t28046\t(0.06%)\n",
      "en-in\t27938\t(0.06%)\n",
      "is\t27698\t(0.06%)\n",
      "ua\t25376\t(0.05%)\n"
     ]
    }
   ],
   "source": [
    "show_metadata(dict_html_langs, exclude=['', 'en', 'en-us'], above=.0005)"
   ]
  },
  {
   "cell_type": "markdown",
   "id": "da0276d9-b20d-42d3-8ced-e5f6373193b4",
   "metadata": {},
   "source": [
    "## Spanish Dialects in Content Language and HTML Language"
   ]
  },
  {
   "cell_type": "code",
   "execution_count": 100,
   "id": "dcff15f8-be2e-4a3e-b5c3-21649b6277f8",
   "metadata": {},
   "outputs": [],
   "source": [
    "spanish_dialects = [\n",
    "    'es-cl', # Chile\n",
    "    'es-ar', # Chile\n",
    "    'es-es', # España\n",
    "    'es-mx', # México\n",
    "    'es-co', # Colombia\n",
    "    'es-pe', # Perú\n",
    "    'es-ve', # Venezuela\n",
    "    'es-ec', # Ecuador\n",
    "    'es-gt', # Guatemala\n",
    "    'es-cu', # Cuba\n",
    "    'es-do', # República Dominicana\n",
    "    'es-bo', # Bolivia\n",
    "    'es-py', # Paraguay\n",
    "    'es-uy', # Uruguay\n",
    "    'es-pa', # Panamá\n",
    "    'es-cr', # Costa Rica\n",
    "    'es-ni', # Nicaragua\n",
    "    'es-hn', # Honduras\n",
    "    'es-sv', # El Salvador\n",
    "    'es-pr', # Puerto Rico\n",
    "    'es-us', # Estados Unidos\n",
    "]"
   ]
  },
  {
   "cell_type": "code",
   "execution_count": 101,
   "id": "7e6adaee-4fb0-45c2-9466-7289fcf821ee",
   "metadata": {},
   "outputs": [
    {
     "name": "stdout",
     "output_type": "stream",
     "text": [
      "es-es\t607663\t(0.52%)\n",
      "es-mx\t130185\t(0.11%)\n",
      "es-ar\t81313\t(0.07%)\n",
      "es-cl\t44751\t(0.04%)\n",
      "es-co\t39110\t(0.03%)\n",
      "es-pe\t16953\t(0.01%)\n",
      "es-us\t14508\t(0.01%)\n",
      "es-cr\t5824\t(0.00%)\n",
      "es-ec\t3777\t(0.00%)\n",
      "es-uy\t3529\t(0.00%)\n",
      "es-ve\t3163\t(0.00%)\n",
      "es-do\t2619\t(0.00%)\n",
      "es-gt\t2375\t(0.00%)\n",
      "es-hn\t1862\t(0.00%)\n",
      "es-py\t1262\t(0.00%)\n",
      "es-bo\t1083\t(0.00%)\n",
      "es-pa\t929\t(0.00%)\n",
      "es-pr\t695\t(0.00%)\n",
      "es-sv\t587\t(0.00%)\n",
      "es-ni\t318\t(0.00%)\n",
      "es-cu\t34\t(0.00%)\n"
     ]
    }
   ],
   "source": [
    "show_metadata_only(dict_html_langs, *spanish_dialects)"
   ]
  },
  {
   "cell_type": "code",
   "execution_count": 102,
   "id": "763b80df-268a-422c-a427-ecbaf4acede2",
   "metadata": {},
   "outputs": [
    {
     "name": "stdout",
     "output_type": "stream",
     "text": [
      "es-es\t28803\t(0.02%)\n",
      "es-mx\t4522\t(0.00%)\n",
      "es-us\t4185\t(0.00%)\n",
      "es-co\t1993\t(0.00%)\n",
      "es-cl\t1928\t(0.00%)\n",
      "es-pe\t1845\t(0.00%)\n",
      "es-ar\t1637\t(0.00%)\n",
      "es-uy\t1205\t(0.00%)\n",
      "es-ec\t590\t(0.00%)\n",
      "es-ve\t573\t(0.00%)\n",
      "es-py\t504\t(0.00%)\n",
      "es-bo\t463\t(0.00%)\n",
      "es-pa\t449\t(0.00%)\n",
      "es-gt\t433\t(0.00%)\n",
      "es-cr\t407\t(0.00%)\n",
      "es-do\t385\t(0.00%)\n",
      "es-hn\t381\t(0.00%)\n",
      "es-ni\t360\t(0.00%)\n",
      "es-sv\t354\t(0.00%)\n",
      "es-pr\t344\t(0.00%)\n",
      "es-cu\t4\t(0.00%)\n"
     ]
    }
   ],
   "source": [
    "show_metadata_only(dict_content_languages, *spanish_dialects)"
   ]
  },
  {
   "cell_type": "markdown",
   "id": "23",
   "metadata": {},
   "source": [
    "## HTML Dirs"
   ]
  },
  {
   "cell_type": "code",
   "execution_count": 103,
   "id": "24",
   "metadata": {},
   "outputs": [
    {
     "name": "stdout",
     "output_type": "stream",
     "text": [
      "\t103822107\t(88.10%)\n",
      "ltr\t12824642\t(10.88%)\n",
      "rtl\t1141922\t(0.97%)\n",
      "auto\t61769\t(0.05%)\n"
     ]
    }
   ],
   "source": [
    "show_metadata(dict_html_dirs)"
   ]
  },
  {
   "cell_type": "markdown",
   "id": "25",
   "metadata": {},
   "source": [
    "## HTML Dirs excluding ''"
   ]
  },
  {
   "cell_type": "code",
   "execution_count": 104,
   "id": "26",
   "metadata": {},
   "outputs": [
    {
     "name": "stdout",
     "output_type": "stream",
     "text": [
      "Exclude: \"\" (103822107, 88.10%)\n",
      "\n",
      "ltr\t12824642\t(91.42%)\n",
      "rtl\t1141922\t(8.14%)\n",
      "auto\t61769\t(0.44%)\n"
     ]
    }
   ],
   "source": [
    "show_metadata(dict_html_dirs, exclude='')"
   ]
  }
 ],
 "metadata": {
  "kernelspec": {
   "display_name": "Python 3 (ipykernel)",
   "language": "python",
   "name": "python3"
  },
  "language_info": {
   "codemirror_mode": {
    "name": "ipython",
    "version": 3
   },
   "file_extension": ".py",
   "mimetype": "text/x-python",
   "name": "python",
   "nbconvert_exporter": "python",
   "pygments_lexer": "ipython3",
   "version": "3.10.11"
  }
 },
 "nbformat": 4,
 "nbformat_minor": 5
}
