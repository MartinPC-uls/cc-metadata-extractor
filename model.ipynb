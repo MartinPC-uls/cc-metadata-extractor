{
 "cells": [
  {
   "cell_type": "code",
   "execution_count": 1,
   "id": "002d1719-561d-4fc0-81c0-4e31f31b32dd",
   "metadata": {},
   "outputs": [],
   "source": [
    "import pandas as pd\n",
    "from sklearn.model_selection import train_test_split\n",
    "import matplotlib.pyplot as plt\n",
    "import torch\n",
    "import torch.nn as nn\n",
    "import torch.nn.functional as F\n",
    "from transformers import RobertaTokenizer, RobertaModel\n",
    "import torch.optim as optim\n",
    "from sklearn.metrics import accuracy_score, classification_report, confusion_matrix\n",
    "import os\n",
    "from collections import OrderedDict"
   ]
  },
  {
   "cell_type": "code",
   "execution_count": 50,
   "id": "cd23b7ad-f97d-46e8-8892-824de7eb849d",
   "metadata": {},
   "outputs": [],
   "source": [
    "class CustomModel(nn.Module):\n",
    "    def __init__(self, config: dict, auto_tokenize=True):\n",
    "        super(CustomModel, self).__init__()\n",
    "        self.auto_tokenize = auto_tokenize\n",
    "        self.tokenizer = RobertaTokenizer.from_pretrained('roberta-base')\n",
    "        self.roberta = RobertaModel.from_pretrained(\"roberta-base\")\n",
    "        self.classifier = nn.Sequential(OrderedDict([\n",
    "            ('dense', nn.Linear(config['dense_in'], config['dense_out'])),\n",
    "            ('dropout', nn.Dropout(config['dropout'])),\n",
    "            ('out', nn.Linear(config['dense_out'], config['num_labels']))\n",
    "        ]))\n",
    "\n",
    "    def forward(self, tokens, return_complete_output=False):\n",
    "        if self.auto_tokenize:\n",
    "            input = self.tokenizer(tokens, padding='max_length', truncation=config['truncation'], max_length=config['max_length'], return_tensors='pt')\n",
    "        else:\n",
    "            input = tokens\n",
    "\n",
    "        x = self.roberta(**input)\n",
    "        x = self.classifier(x[0][:, 0]) # from last hidden state, for CLS token\n",
    "        # source for CLS embeddings: https://www.kaggle.com/code/rhtsingh/utilizing-transformer-representations-efficiently\n",
    "        \n",
    "        output = {\n",
    "            'domain': F.softmax(x[:, :3], dim=1),\n",
    "            'html_dir': F.softmax(x[:, 11:], dim=1),\n",
    "        }\n",
    "\n",
    "        html_lang = F.sigmoid(x[:, 3:7])\n",
    "        content_language = F.sigmoid(x[:, 7:11])\n",
    "        \n",
    "        output['html_lang'] = html_lang\n",
    "        output['content_language'] = content_language\n",
    "        \n",
    "        return output"
   ]
  },
  {
   "cell_type": "code",
   "execution_count": 33,
   "id": "46b2179e-e3c4-4f1f-a30d-ed1ee856a758",
   "metadata": {
    "scrolled": true
   },
   "outputs": [],
   "source": [
    "config = {\n",
    "    'num_labels': 14,\n",
    "    'dense_in': 768,\n",
    "    'dense_out': 768,\n",
    "    'dropout': 0.1,\n",
    "    'truncation': True,\n",
    "    'max_length': 128\n",
    "}"
   ]
  },
  {
   "cell_type": "code",
   "execution_count": 34,
   "id": "f4175103-a3ea-4615-ae30-5d5cdc89a07b",
   "metadata": {},
   "outputs": [],
   "source": [
    "domains = ['es', 'us', 'ru']\n",
    "domains_dict = { cls:i for i, cls in enumerate(domains) }\n",
    "\n",
    "dirs = ['ltr', 'rtl', '']\n",
    "dirs_dict = { cls:i for i, cls in enumerate(dirs) }\n",
    "\n",
    "html_langs = ['es', 'en', 'ru', 'cn']\n",
    "html_langs_dict = { cls:i for i, cls in enumerate(html_langs) }\n",
    "\n",
    "content_langs = ['es', 'en', 'ru', 'cn']\n",
    "content_langs_dir = { cls:i for i, cls in enumerate(content_langs) }\n",
    "\n",
    "def one_hot_domain(str_cls):\n",
    "    cls = domains_dict[str_cls]\n",
    "    return torch.nn.functional.one_hot(torch.tensor(cls), num_classes=3).float().unsqueeze(0)\n",
    "\n",
    "def one_hot_dir(str_cls):\n",
    "    cls = dirs_dict[str_cls]\n",
    "    return torch.nn.functional.one_hot(torch.tensor(cls), num_classes=3).float().unsqueeze(0)\n",
    "\n",
    "def one_hot_html_lang(str_cls):\n",
    "    cls = html_langs_dict[str_cls]\n",
    "    return torch.nn.functional.one_hot(torch.tensor(cls), num_classes=4).float().unsqueeze(0)\n",
    "\n",
    "def encode_html_lang(*args):\n",
    "    indices = []\n",
    "    for arg in args:\n",
    "        indices.append(html_langs_dict[arg])\n",
    "\n",
    "    tensor = torch.zeros(4)\n",
    "    for idx in indices:\n",
    "        tensor[idx] = 1\n",
    "\n",
    "    return tensor.unsqueeze(0)\n",
    "\n",
    "def one_hot_content_lang(str_cls):\n",
    "    cls = content_langs_dir[str_cls]\n",
    "    return torch.nn.functional.one_hot(torch.tensor(cls), num_classes=4).float().unsqueeze(0)\n",
    "\n",
    "def encode_content_lang(*args):\n",
    "    indices = []\n",
    "    for arg in args:\n",
    "        indices.append(html_langs_dict[arg])\n",
    "\n",
    "    tensor = torch.zeros(4)\n",
    "    for idx in indices:\n",
    "        tensor[idx] = 1\n",
    "\n",
    "    return tensor.unsqueeze(0)"
   ]
  },
  {
   "cell_type": "code",
   "execution_count": 35,
   "id": "9b5bdb07-e770-4efa-b30b-b8f83b800ff8",
   "metadata": {},
   "outputs": [],
   "source": [
    "sample_dataset = [\n",
    "    # (text, domain, html_lang, content_language, html_dir)\n",
    "    ('texto de prueba', one_hot_domain('es'), encode_html_lang('es', 'ru'), encode_content_lang('es', 'ru'), one_hot_dir('ltr')),\n",
    "    ('otro texto', one_hot_domain('es'), encode_html_lang('es', 'ru'), encode_content_lang('es', 'ru'), one_hot_dir('ltr')),\n",
    "    ('this is english', one_hot_domain('us'), encode_html_lang('en') , encode_content_lang('en'), one_hot_dir('ltr')),\n",
    "    ('this is also another text', one_hot_domain('us'), encode_html_lang('en'), encode_content_lang('en'), one_hot_dir('ltr'))\n",
    "]"
   ]
  },
  {
   "cell_type": "code",
   "execution_count": 36,
   "id": "12af0b82-0e86-4dd5-9eb8-f765ac690f32",
   "metadata": {},
   "outputs": [
    {
     "name": "stderr",
     "output_type": "stream",
     "text": [
      "Some weights of the model checkpoint at roberta-base were not used when initializing RobertaModel: ['lm_head.bias', 'lm_head.dense.bias', 'lm_head.dense.weight', 'lm_head.layer_norm.bias', 'lm_head.layer_norm.weight']\n",
      "- This IS expected if you are initializing RobertaModel from the checkpoint of a model trained on another task or with another architecture (e.g. initializing a BertForSequenceClassification model from a BertForPreTraining model).\n",
      "- This IS NOT expected if you are initializing RobertaModel from the checkpoint of a model that you expect to be exactly identical (initializing a BertForSequenceClassification model from a BertForSequenceClassification model).\n",
      "Some weights of RobertaModel were not initialized from the model checkpoint at roberta-base and are newly initialized: ['roberta.pooler.dense.bias', 'roberta.pooler.dense.weight']\n",
      "You should probably TRAIN this model on a down-stream task to be able to use it for predictions and inference.\n"
     ]
    }
   ],
   "source": [
    "cross_entropy_loss = nn.CrossEntropyLoss()\n",
    "binary_cross_entropy_loss = nn.BCELoss()\n",
    "\n",
    "custom_model = CustomModel(config)\n",
    "custom_model.train()\n",
    "\n",
    "lr = 1e-5\n",
    "optimizer = torch.optim.AdamW(custom_model.parameters(), lr=lr)"
   ]
  },
  {
   "cell_type": "code",
   "execution_count": 37,
   "id": "9ffd6c14-034d-4cac-b503-0afda445d665",
   "metadata": {},
   "outputs": [
    {
     "name": "stdout",
     "output_type": "stream",
     "text": [
      "Epoch 1/10\tloss: 0.8887870460748672\n",
      "Epoch 2/10\tloss: 0.8740910887718201\n",
      "Epoch 3/10\tloss: 0.871831551194191\n",
      "Epoch 4/10\tloss: 0.8432279229164124\n",
      "Epoch 5/10\tloss: 0.8239980340003967\n",
      "Epoch 6/10\tloss: 0.7732236832380295\n",
      "Epoch 7/10\tloss: 0.7152294814586639\n",
      "Epoch 8/10\tloss: 0.6834849119186401\n",
      "Epoch 9/10\tloss: 0.6495937556028366\n",
      "Epoch 10/10\tloss: 0.624142661690712\n"
     ]
    },
    {
     "data": {
      "image/png": "[encoded data removed]",
      "text/plain": [
       "<Figure size 640x480 with 1 Axes>"
      ]
     },
     "metadata": {},
     "output_type": "display_data"
    }
   ],
   "source": [
    "custom_model.train()\n",
    "\n",
    "training_loss = []\n",
    "\n",
    "epochs = 10\n",
    "\n",
    "for epoch in range(epochs):\n",
    "    losses = []\n",
    "    for text, domain, html_lang, content_language, html_dir in sample_dataset:\n",
    "        predicted = custom_model(text)\n",
    "        predicted_domain = predicted['domain']\n",
    "        predicted_html_lang = predicted['html_lang']\n",
    "        predicted_content_language = predicted['content_language']\n",
    "        predicted_html_dir = predicted['html_dir']\n",
    "        \n",
    "        domain_loss = cross_entropy_loss(predicted_domain, domain)\n",
    "        html_lang_loss = binary_cross_entropy_loss(predicted_html_lang, html_lang)\n",
    "        content_language_loss = binary_cross_entropy_loss(predicted_content_language, content_language)\n",
    "        html_dir_loss = cross_entropy_loss(predicted_html_dir, html_dir)\n",
    "        \n",
    "        total_loss = domain_loss + html_lang_loss + content_language_loss + html_dir_loss\n",
    "        total_loss /= 4.0\n",
    "\n",
    "        losses.append(total_loss.item())\n",
    "    \n",
    "        optimizer.zero_grad(set_to_none=True)\n",
    "        total_loss.backward()\n",
    "        optimizer.step()\n",
    "        \n",
    "    average_loss = sum(losses)/len(losses)\n",
    "    training_loss.append(average_loss)\n",
    "\n",
    "    print(f'Epoch {epoch+1}/{epochs}\\tloss: {average_loss}')\n",
    "\n",
    "plt.plot(training_loss);"
   ]
  },
  {
   "cell_type": "code",
   "execution_count": 38,
   "id": "7b1b9d2b-c696-45ab-abbc-d00015f42aac",
   "metadata": {},
   "outputs": [],
   "source": [
    "custom_model.eval();"
   ]
  },
  {
   "cell_type": "code",
   "execution_count": 44,
   "id": "5f173be7-2cd3-4e28-9139-d6673b5df84b",
   "metadata": {},
   "outputs": [],
   "source": [
    "output = custom_model('texto de prueba')"
   ]
  },
  {
   "cell_type": "code",
   "execution_count": 45,
   "id": "d32e869b-8272-4a82-a818-d244f79c9d5b",
   "metadata": {},
   "outputs": [
    {
     "data": {
      "text/plain": [
       "tensor([[0.7222, 0.1931, 0.0847]], grad_fn=<SoftmaxBackward0>)"
      ]
     },
     "execution_count": 45,
     "metadata": {},
     "output_type": "execute_result"
    }
   ],
   "source": [
    "output['domain']"
   ]
  },
  {
   "cell_type": "code",
   "execution_count": 46,
   "id": "706c4ac4-e669-43f5-9925-1fa47790af24",
   "metadata": {},
   "outputs": [
    {
     "data": {
      "text/plain": [
       "tensor([[0.9360, 0.0366, 0.0275]], grad_fn=<SoftmaxBackward0>)"
      ]
     },
     "execution_count": 46,
     "metadata": {},
     "output_type": "execute_result"
    }
   ],
   "source": [
    "output['html_dir']"
   ]
  },
  {
   "cell_type": "code",
   "execution_count": 47,
   "id": "fd918fcb-8397-4bb0-9635-a739e842f0ce",
   "metadata": {},
   "outputs": [
    {
     "data": {
      "text/plain": [
       "tensor([[0.6107, 0.3178, 0.6306, 0.1874]], grad_fn=<SigmoidBackward0>)"
      ]
     },
     "execution_count": 47,
     "metadata": {},
     "output_type": "execute_result"
    }
   ],
   "source": [
    "output['content_language']"
   ]
  },
  {
   "cell_type": "code",
   "execution_count": 48,
   "id": "0ef985d3-d3cb-4311-b8be-0ae43087b7dd",
   "metadata": {},
   "outputs": [
    {
     "data": {
      "text/plain": [
       "tensor([[0.5766, 0.3618, 0.6352, 0.1815]], grad_fn=<SigmoidBackward0>)"
      ]
     },
     "execution_count": 48,
     "metadata": {},
     "output_type": "execute_result"
    }
   ],
   "source": [
    "output['html_lang']"
   ]
  },
  {
   "cell_type": "code",
   "execution_count": null,
   "id": "4f7dc32b-6a69-4268-854f-539506ba8b42",
   "metadata": {},
   "outputs": [],
   "source": []
  }
 ],
 "metadata": {
  "kernelspec": {
   "display_name": "Python 3 (ipykernel)",
   "language": "python",
   "name": "python3"
  },
  "language_info": {
   "codemirror_mode": {
    "name": "ipython",
    "version": 3
   },
   "file_extension": ".py",
   "mimetype": "text/x-python",
   "name": "python",
   "nbconvert_exporter": "python",
   "pygments_lexer": "ipython3",
   "version": "3.10.11"
  }
 },
 "nbformat": 4,
 "nbformat_minor": 5
}
